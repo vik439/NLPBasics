{
 "cells": [
  {
   "cell_type": "markdown",
   "id": "4d12649a-4059-4c2a-bc72-e2acab396bf3",
   "metadata": {},
   "source": [
    "# Tokenization #"
   ]
  },
  {
   "cell_type": "markdown",
   "id": "727b5956-db32-41b6-9707-7f275fc94344",
   "metadata": {},
   "source": [
    "### Common Terminologies ###"
   ]
  },
  {
   "cell_type": "markdown",
   "id": "6d68d78e-bbd2-46b5-b508-e16c64f189bf",
   "metadata": {},
   "source": [
    "1. A paragraph  is known as corpus\n",
    "2. Sentences are documents\n",
    "3. All the unique words is known as vocabulary\n",
    "4. All the words are known as words"
   ]
  },
  {
   "cell_type": "markdown",
   "id": "d241ea84-01ac-41b1-9c65-90d57f0b5085",
   "metadata": {},
   "source": [
    "#### What is Tokenization?"
   ]
  },
  {
   "cell_type": "markdown",
   "id": "bb6e669e-0b31-4bef-bed4-7e127be182f4",
   "metadata": {},
   "source": [
    "Tokenization is a process where we take in paragraphs or sentences and convert them into tokens. Paragraphs can be converted into sentences and word tokens."
   ]
  },
  {
   "cell_type": "code",
   "execution_count": 1,
   "id": "33390f77-359f-4660-97bc-fb6c6bb95184",
   "metadata": {},
   "outputs": [
    {
     "name": "stdout",
     "output_type": "stream",
     "text": [
      "Requirement already satisfied: nltk in c:\\users\\vik43\\anaconda4\\lib\\site-packages (3.9.1)\n",
      "Requirement already satisfied: click in c:\\users\\vik43\\anaconda4\\lib\\site-packages (from nltk) (8.1.7)\n",
      "Requirement already satisfied: joblib in c:\\users\\vik43\\anaconda4\\lib\\site-packages (from nltk) (1.4.2)\n",
      "Requirement already satisfied: regex>=2021.8.3 in c:\\users\\vik43\\anaconda4\\lib\\site-packages (from nltk) (2024.9.11)\n",
      "Requirement already satisfied: tqdm in c:\\users\\vik43\\anaconda4\\lib\\site-packages (from nltk) (4.66.5)\n",
      "Requirement already satisfied: colorama in c:\\users\\vik43\\anaconda4\\lib\\site-packages (from click->nltk) (0.4.6)\n"
     ]
    }
   ],
   "source": [
    "!pip install nltk"
   ]
  },
  {
   "cell_type": "code",
   "execution_count": 2,
   "id": "76f7b5bc-02fc-4471-87f6-4ee0757d9cf7",
   "metadata": {},
   "outputs": [
    {
     "name": "stderr",
     "output_type": "stream",
     "text": [
      "[nltk_data] Downloading package punkt_tab to\n",
      "[nltk_data]     C:\\Users\\vik43\\AppData\\Roaming\\nltk_data...\n",
      "[nltk_data]   Package punkt_tab is already up-to-date!\n"
     ]
    },
    {
     "data": {
      "text/plain": [
       "True"
      ]
     },
     "execution_count": 2,
     "metadata": {},
     "output_type": "execute_result"
    }
   ],
   "source": [
    "import nltk\n",
    "nltk.download('punkt_tab')"
   ]
  },
  {
   "cell_type": "code",
   "execution_count": 3,
   "id": "4221b5fd-fdeb-4305-b145-caafa5206cff",
   "metadata": {},
   "outputs": [],
   "source": [
    "##Converting paragraphs to sentences\n",
    "from nltk.tokenize import sent_tokenize"
   ]
  },
  {
   "cell_type": "code",
   "execution_count": 4,
   "id": "f9a4f83f-2c23-4f0f-bffd-3a345ee92e65",
   "metadata": {},
   "outputs": [],
   "source": [
    "corpus=\"\"\" The world around us is constantly evolving, driven by advancements in technology and the endless pursuit of knowledge. \n",
    "As we adapt to new challenges and opportunities, it is important to remain open-minded and embrace change. \n",
    "The key to thriving in this dynamic environment is not only to stay informed but also to foster creativity and innovation. \n",
    "By working together, sharing ideas, and supporting each other, we can build a future that is not only sustainable but also enriching for all. \n",
    "Every small step we take today paves the way for a brighter tomorrow.\n",
    "\"\"\""
   ]
  },
  {
   "cell_type": "code",
   "execution_count": 5,
   "id": "70d3f491-8dde-40b2-bd70-893cb7d23d81",
   "metadata": {},
   "outputs": [
    {
     "data": {
      "text/plain": [
       "[' The world around us is constantly evolving, driven by advancements in technology and the endless pursuit of knowledge.',\n",
       " 'As we adapt to new challenges and opportunities, it is important to remain open-minded and embrace change.',\n",
       " 'The key to thriving in this dynamic environment is not only to stay informed but also to foster creativity and innovation.',\n",
       " 'By working together, sharing ideas, and supporting each other, we can build a future that is not only sustainable but also enriching for all.',\n",
       " 'Every small step we take today paves the way for a brighter tomorrow.']"
      ]
     },
     "execution_count": 5,
     "metadata": {},
     "output_type": "execute_result"
    }
   ],
   "source": [
    "sent_tokenize(corpus)"
   ]
  },
  {
   "cell_type": "markdown",
   "id": "27639a1a-42e9-468d-a638-c2bc818947ea",
   "metadata": {},
   "source": [
    "***Here, the paragraph is converted into sentences, returned as elements in a list***"
   ]
  },
  {
   "cell_type": "code",
   "execution_count": 6,
   "id": "33571a98-2133-4129-b9eb-d1997fff07ef",
   "metadata": {},
   "outputs": [],
   "source": [
    "## Conversting paragraph to words\n",
    "from nltk.tokenize import word_tokenize"
   ]
  },
  {
   "cell_type": "code",
   "execution_count": 7,
   "id": "314e317f-e093-49e2-addc-2ff8ae36d918",
   "metadata": {},
   "outputs": [
    {
     "data": {
      "text/plain": [
       "['The',\n",
       " 'world',\n",
       " 'around',\n",
       " 'us',\n",
       " 'is',\n",
       " 'constantly',\n",
       " 'evolving',\n",
       " ',',\n",
       " 'driven',\n",
       " 'by',\n",
       " 'advancements',\n",
       " 'in',\n",
       " 'technology',\n",
       " 'and',\n",
       " 'the',\n",
       " 'endless',\n",
       " 'pursuit',\n",
       " 'of',\n",
       " 'knowledge',\n",
       " '.',\n",
       " 'As',\n",
       " 'we',\n",
       " 'adapt',\n",
       " 'to',\n",
       " 'new',\n",
       " 'challenges',\n",
       " 'and',\n",
       " 'opportunities',\n",
       " ',',\n",
       " 'it',\n",
       " 'is',\n",
       " 'important',\n",
       " 'to',\n",
       " 'remain',\n",
       " 'open-minded',\n",
       " 'and',\n",
       " 'embrace',\n",
       " 'change',\n",
       " '.',\n",
       " 'The',\n",
       " 'key',\n",
       " 'to',\n",
       " 'thriving',\n",
       " 'in',\n",
       " 'this',\n",
       " 'dynamic',\n",
       " 'environment',\n",
       " 'is',\n",
       " 'not',\n",
       " 'only',\n",
       " 'to',\n",
       " 'stay',\n",
       " 'informed',\n",
       " 'but',\n",
       " 'also',\n",
       " 'to',\n",
       " 'foster',\n",
       " 'creativity',\n",
       " 'and',\n",
       " 'innovation',\n",
       " '.',\n",
       " 'By',\n",
       " 'working',\n",
       " 'together',\n",
       " ',',\n",
       " 'sharing',\n",
       " 'ideas',\n",
       " ',',\n",
       " 'and',\n",
       " 'supporting',\n",
       " 'each',\n",
       " 'other',\n",
       " ',',\n",
       " 'we',\n",
       " 'can',\n",
       " 'build',\n",
       " 'a',\n",
       " 'future',\n",
       " 'that',\n",
       " 'is',\n",
       " 'not',\n",
       " 'only',\n",
       " 'sustainable',\n",
       " 'but',\n",
       " 'also',\n",
       " 'enriching',\n",
       " 'for',\n",
       " 'all',\n",
       " '.',\n",
       " 'Every',\n",
       " 'small',\n",
       " 'step',\n",
       " 'we',\n",
       " 'take',\n",
       " 'today',\n",
       " 'paves',\n",
       " 'the',\n",
       " 'way',\n",
       " 'for',\n",
       " 'a',\n",
       " 'brighter',\n",
       " 'tomorrow',\n",
       " '.']"
      ]
     },
     "execution_count": 7,
     "metadata": {},
     "output_type": "execute_result"
    }
   ],
   "source": [
    "word_tokenize(corpus)"
   ]
  },
  {
   "cell_type": "code",
   "execution_count": 8,
   "id": "8395f233-9f15-44c0-9b34-e1fe5a36f55f",
   "metadata": {},
   "outputs": [],
   "source": [
    "from nltk.tokenize import wordpunct_tokenize"
   ]
  },
  {
   "cell_type": "code",
   "execution_count": 9,
   "id": "19c4f449-0716-4197-84ac-f7c41bf6dc4c",
   "metadata": {},
   "outputs": [
    {
     "data": {
      "text/plain": [
       "['The',\n",
       " 'world',\n",
       " 'around',\n",
       " 'us',\n",
       " 'is',\n",
       " 'constantly',\n",
       " 'evolving',\n",
       " ',',\n",
       " 'driven',\n",
       " 'by',\n",
       " 'advancements',\n",
       " 'in',\n",
       " 'technology',\n",
       " 'and',\n",
       " 'the',\n",
       " 'endless',\n",
       " 'pursuit',\n",
       " 'of',\n",
       " 'knowledge',\n",
       " '.',\n",
       " 'As',\n",
       " 'we',\n",
       " 'adapt',\n",
       " 'to',\n",
       " 'new',\n",
       " 'challenges',\n",
       " 'and',\n",
       " 'opportunities',\n",
       " ',',\n",
       " 'it',\n",
       " 'is',\n",
       " 'important',\n",
       " 'to',\n",
       " 'remain',\n",
       " 'open',\n",
       " '-',\n",
       " 'minded',\n",
       " 'and',\n",
       " 'embrace',\n",
       " 'change',\n",
       " '.',\n",
       " 'The',\n",
       " 'key',\n",
       " 'to',\n",
       " 'thriving',\n",
       " 'in',\n",
       " 'this',\n",
       " 'dynamic',\n",
       " 'environment',\n",
       " 'is',\n",
       " 'not',\n",
       " 'only',\n",
       " 'to',\n",
       " 'stay',\n",
       " 'informed',\n",
       " 'but',\n",
       " 'also',\n",
       " 'to',\n",
       " 'foster',\n",
       " 'creativity',\n",
       " 'and',\n",
       " 'innovation',\n",
       " '.',\n",
       " 'By',\n",
       " 'working',\n",
       " 'together',\n",
       " ',',\n",
       " 'sharing',\n",
       " 'ideas',\n",
       " ',',\n",
       " 'and',\n",
       " 'supporting',\n",
       " 'each',\n",
       " 'other',\n",
       " ',',\n",
       " 'we',\n",
       " 'can',\n",
       " 'build',\n",
       " 'a',\n",
       " 'future',\n",
       " 'that',\n",
       " 'is',\n",
       " 'not',\n",
       " 'only',\n",
       " 'sustainable',\n",
       " 'but',\n",
       " 'also',\n",
       " 'enriching',\n",
       " 'for',\n",
       " 'all',\n",
       " '.',\n",
       " 'Every',\n",
       " 'small',\n",
       " 'step',\n",
       " 'we',\n",
       " 'take',\n",
       " 'today',\n",
       " 'paves',\n",
       " 'the',\n",
       " 'way',\n",
       " 'for',\n",
       " 'a',\n",
       " 'brighter',\n",
       " 'tomorrow',\n",
       " '.']"
      ]
     },
     "execution_count": 9,
     "metadata": {},
     "output_type": "execute_result"
    }
   ],
   "source": [
    "wordpunct_tokenize(corpus)"
   ]
  },
  {
   "cell_type": "code",
   "execution_count": 10,
   "id": "c4421235-3685-4128-b568-6058bd33f9bf",
   "metadata": {},
   "outputs": [],
   "source": [
    "from nltk.tokenize import TreebankWordTokenizer"
   ]
  },
  {
   "cell_type": "code",
   "execution_count": 11,
   "id": "33bdea83-c02b-49ad-82df-c85d9d9a468f",
   "metadata": {},
   "outputs": [],
   "source": [
    "tokenizer = TreebankWordTokenizer()"
   ]
  },
  {
   "cell_type": "code",
   "execution_count": 12,
   "id": "57e5448d-0204-4685-9928-9e4fd18d7650",
   "metadata": {},
   "outputs": [
    {
     "data": {
      "text/plain": [
       "['The',\n",
       " 'world',\n",
       " 'around',\n",
       " 'us',\n",
       " 'is',\n",
       " 'constantly',\n",
       " 'evolving',\n",
       " ',',\n",
       " 'driven',\n",
       " 'by',\n",
       " 'advancements',\n",
       " 'in',\n",
       " 'technology',\n",
       " 'and',\n",
       " 'the',\n",
       " 'endless',\n",
       " 'pursuit',\n",
       " 'of',\n",
       " 'knowledge.',\n",
       " 'As',\n",
       " 'we',\n",
       " 'adapt',\n",
       " 'to',\n",
       " 'new',\n",
       " 'challenges',\n",
       " 'and',\n",
       " 'opportunities',\n",
       " ',',\n",
       " 'it',\n",
       " 'is',\n",
       " 'important',\n",
       " 'to',\n",
       " 'remain',\n",
       " 'open-minded',\n",
       " 'and',\n",
       " 'embrace',\n",
       " 'change.',\n",
       " 'The',\n",
       " 'key',\n",
       " 'to',\n",
       " 'thriving',\n",
       " 'in',\n",
       " 'this',\n",
       " 'dynamic',\n",
       " 'environment',\n",
       " 'is',\n",
       " 'not',\n",
       " 'only',\n",
       " 'to',\n",
       " 'stay',\n",
       " 'informed',\n",
       " 'but',\n",
       " 'also',\n",
       " 'to',\n",
       " 'foster',\n",
       " 'creativity',\n",
       " 'and',\n",
       " 'innovation.',\n",
       " 'By',\n",
       " 'working',\n",
       " 'together',\n",
       " ',',\n",
       " 'sharing',\n",
       " 'ideas',\n",
       " ',',\n",
       " 'and',\n",
       " 'supporting',\n",
       " 'each',\n",
       " 'other',\n",
       " ',',\n",
       " 'we',\n",
       " 'can',\n",
       " 'build',\n",
       " 'a',\n",
       " 'future',\n",
       " 'that',\n",
       " 'is',\n",
       " 'not',\n",
       " 'only',\n",
       " 'sustainable',\n",
       " 'but',\n",
       " 'also',\n",
       " 'enriching',\n",
       " 'for',\n",
       " 'all.',\n",
       " 'Every',\n",
       " 'small',\n",
       " 'step',\n",
       " 'we',\n",
       " 'take',\n",
       " 'today',\n",
       " 'paves',\n",
       " 'the',\n",
       " 'way',\n",
       " 'for',\n",
       " 'a',\n",
       " 'brighter',\n",
       " 'tomorrow',\n",
       " '.']"
      ]
     },
     "execution_count": 12,
     "metadata": {},
     "output_type": "execute_result"
    }
   ],
   "source": [
    "tokenizer.tokenize(corpus)"
   ]
  },
  {
   "cell_type": "markdown",
   "id": "0a64fb35-3c3f-44f6-bb84-bddce74f1eee",
   "metadata": {},
   "source": [
    "***The difference is between sentences, the fullstop is present with previous word. However the last sentence full stop is seperated. You can check in the example.***"
   ]
  },
  {
   "cell_type": "code",
   "execution_count": null,
   "id": "d05716ee-ec04-4b69-9f51-101ed33b900d",
   "metadata": {},
   "outputs": [],
   "source": []
  }
 ],
 "metadata": {
  "kernelspec": {
   "display_name": "base",
   "language": "python",
   "name": "python3"
  },
  "language_info": {
   "codemirror_mode": {
    "name": "ipython",
    "version": 3
   },
   "file_extension": ".py",
   "mimetype": "text/x-python",
   "name": "python",
   "nbconvert_exporter": "python",
   "pygments_lexer": "ipython3",
   "version": "3.12.7"
  }
 },
 "nbformat": 4,
 "nbformat_minor": 5
}
