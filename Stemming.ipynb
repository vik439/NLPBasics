{
 "cells": [
  {
   "cell_type": "markdown",
   "metadata": {},
   "source": [
    "# Stemming #"
   ]
  },
  {
   "cell_type": "markdown",
   "metadata": {},
   "source": [
    "In stemming, a word is reduced to word stem and it affixes to suffixes and prefixes or to the root of words known as a lemma. "
   ]
  },
  {
   "cell_type": "code",
   "execution_count": 11,
   "metadata": {},
   "outputs": [],
   "source": [
    "words = [\"Running\", \"Jumps\", \"Happily\", \"Studies\", \"Studying\", \"Played\", \"Strongest\", \"Eating\", \"Cleaner\", \n",
    "    \"Organization\", \"Universal\", \"Activating\", \"Brightness\", \"Agreement\", \"National\", \"Quickly\", \"Connection\", \n",
    "    \"Discovering\", \"Beautifully\", \"Simplified\"]"
   ]
  },
  {
   "cell_type": "code",
   "execution_count": 12,
   "metadata": {},
   "outputs": [],
   "source": [
    "#PorterStemmer\n",
    "from nltk.stem import PorterStemmer"
   ]
  },
  {
   "cell_type": "code",
   "execution_count": 13,
   "metadata": {},
   "outputs": [],
   "source": [
    "stemming=PorterStemmer()"
   ]
  },
  {
   "cell_type": "code",
   "execution_count": 14,
   "metadata": {},
   "outputs": [
    {
     "name": "stdout",
     "output_type": "stream",
     "text": [
      "Running ------> Run\n",
      "Jumps ------> Jump\n",
      "Happily ------> Happili\n",
      "Studies ------> Studi\n",
      "Studying ------> Studi\n",
      "Played ------> Play\n",
      "Strongest ------> Strongest\n",
      "Eating ------> Eat\n",
      "Cleaner ------> Cleaner\n",
      "Organization ------> Organ\n",
      "Universal ------> Univers\n",
      "Activating ------> Activ\n",
      "Brightness ------> Bright\n",
      "Agreement ------> Agreement\n",
      "National ------> Nation\n",
      "Quickly ------> Quickli\n",
      "Connection ------> Connect\n",
      "Discovering ------> Discov\n",
      "Beautifully ------> Beauti\n",
      "Simplified ------> Simplifi\n"
     ]
    }
   ],
   "source": [
    "for word in words:\n",
    "    print(word+\" ------> \"+stemming.stem(word).capitalize())"
   ]
  },
  {
   "cell_type": "code",
   "execution_count": 15,
   "metadata": {},
   "outputs": [
    {
     "data": {
      "text/plain": [
       "'sit'"
      ]
     },
     "execution_count": 15,
     "metadata": {},
     "output_type": "execute_result"
    }
   ],
   "source": [
    "stemming.stem(\"sitting\")"
   ]
  },
  {
   "cell_type": "code",
   "execution_count": 16,
   "metadata": {},
   "outputs": [],
   "source": [
    "#Using the regexpStemmer\n",
    "from nltk.stem import RegexpStemmer"
   ]
  },
  {
   "cell_type": "code",
   "execution_count": 17,
   "metadata": {},
   "outputs": [],
   "source": [
    "reg_stemmer = RegexpStemmer(\"ing$|s$|e$|able$\", min=4)"
   ]
  },
  {
   "cell_type": "code",
   "execution_count": 18,
   "metadata": {},
   "outputs": [
    {
     "data": {
      "text/plain": [
       "'eat'"
      ]
     },
     "execution_count": 18,
     "metadata": {},
     "output_type": "execute_result"
    }
   ],
   "source": [
    "reg_stemmer.stem('eating')"
   ]
  },
  {
   "cell_type": "code",
   "execution_count": 19,
   "metadata": {},
   "outputs": [
    {
     "data": {
      "text/plain": [
       "'walk'"
      ]
     },
     "execution_count": 19,
     "metadata": {},
     "output_type": "execute_result"
    }
   ],
   "source": [
    "reg_stemmer.stem('walkable')"
   ]
  },
  {
   "cell_type": "code",
   "execution_count": 20,
   "metadata": {},
   "outputs": [
    {
     "data": {
      "text/plain": [
       "'integrat'"
      ]
     },
     "execution_count": 20,
     "metadata": {},
     "output_type": "execute_result"
    }
   ],
   "source": [
    "reg_stemmer.stem('integrating')"
   ]
  },
  {
   "cell_type": "code",
   "execution_count": 21,
   "metadata": {},
   "outputs": [],
   "source": [
    "#using Snowball Stemmer\n",
    "from nltk.stem import SnowballStemmer"
   ]
  },
  {
   "cell_type": "code",
   "execution_count": 22,
   "metadata": {},
   "outputs": [],
   "source": [
    "Snowballsstemmer = SnowballStemmer('english')"
   ]
  },
  {
   "cell_type": "code",
   "execution_count": 23,
   "metadata": {},
   "outputs": [
    {
     "name": "stdout",
     "output_type": "stream",
     "text": [
      "Running ------> run\n",
      "Jumps ------> jump\n",
      "Happily ------> happili\n",
      "Studies ------> studi\n",
      "Studying ------> studi\n",
      "Played ------> play\n",
      "Strongest ------> strongest\n",
      "Eating ------> eat\n",
      "Cleaner ------> cleaner\n",
      "Organization ------> organ\n",
      "Universal ------> univers\n",
      "Activating ------> activ\n",
      "Brightness ------> bright\n",
      "Agreement ------> agreement\n",
      "National ------> nation\n",
      "Quickly ------> quick\n",
      "Connection ------> connect\n",
      "Discovering ------> discov\n",
      "Beautifully ------> beauti\n",
      "Simplified ------> simplifi\n"
     ]
    }
   ],
   "source": [
    "for word in words:\n",
    "    print(word+\" ------> \"+Snowballsstemmer.stem(word))"
   ]
  },
  {
   "cell_type": "code",
   "execution_count": 24,
   "metadata": {},
   "outputs": [
    {
     "data": {
      "text/plain": [
       "('fairli', 'sportingli')"
      ]
     },
     "execution_count": 24,
     "metadata": {},
     "output_type": "execute_result"
    }
   ],
   "source": [
    "stemming.stem(\"fairly\"), stemming.stem('sportingly')"
   ]
  },
  {
   "cell_type": "code",
   "execution_count": 25,
   "metadata": {},
   "outputs": [
    {
     "data": {
      "text/plain": [
       "('fair', 'sport')"
      ]
     },
     "execution_count": 25,
     "metadata": {},
     "output_type": "execute_result"
    }
   ],
   "source": [
    "Snowballsstemmer.stem(\"fairly\"), Snowballsstemmer.stem(\"sportingly\")"
   ]
  },
  {
   "cell_type": "code",
   "execution_count": null,
   "metadata": {},
   "outputs": [],
   "source": []
  }
 ],
 "metadata": {
  "kernelspec": {
   "display_name": "base",
   "language": "python",
   "name": "python3"
  },
  "language_info": {
   "codemirror_mode": {
    "name": "ipython",
    "version": 3
   },
   "file_extension": ".py",
   "mimetype": "text/x-python",
   "name": "python",
   "nbconvert_exporter": "python",
   "pygments_lexer": "ipython3",
   "version": "3.12.7"
  }
 },
 "nbformat": 4,
 "nbformat_minor": 2
}
