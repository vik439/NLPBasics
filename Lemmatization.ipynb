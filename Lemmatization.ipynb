{
 "cells": [
  {
   "cell_type": "code",
   "execution_count": null,
   "metadata": {},
   "outputs": [],
   "source": []
  },
  {
   "cell_type": "markdown",
   "metadata": {},
   "source": [
    "# Lemmatization #"
   ]
  },
  {
   "cell_type": "markdown",
   "metadata": {},
   "source": [
    "Lemmatization is similar stemming. Word after lemmatization is called 'lemma', which is a root word rather than the root stem. Lemma gives root which gives a valid word.\n",
    "\n",
    "NLTK has WordNetLemmatizer - a thin wrapper around wordnet corpus. It uses `morphy()` function to the WordNet CorpusReader class to find a lemma."
   ]
  },
  {
   "cell_type": "code",
   "execution_count": 5,
   "metadata": {},
   "outputs": [
    {
     "name": "stderr",
     "output_type": "stream",
     "text": [
      "[nltk_data] Downloading package wordnet to\n",
      "[nltk_data]     C:\\Users\\vik43\\AppData\\Roaming\\nltk_data...\n"
     ]
    },
    {
     "data": {
      "text/plain": [
       "True"
      ]
     },
     "execution_count": 5,
     "metadata": {},
     "output_type": "execute_result"
    }
   ],
   "source": [
    "import nltk\n",
    "nltk.download('wordnet')"
   ]
  },
  {
   "cell_type": "code",
   "execution_count": 6,
   "metadata": {},
   "outputs": [],
   "source": [
    "from nltk.stem import WordNetLemmatizer"
   ]
  },
  {
   "cell_type": "code",
   "execution_count": 7,
   "metadata": {},
   "outputs": [],
   "source": [
    "lemmatizer = WordNetLemmatizer()"
   ]
  },
  {
   "cell_type": "code",
   "execution_count": 8,
   "metadata": {},
   "outputs": [
    {
     "data": {
      "text/plain": [
       "'going'"
      ]
     },
     "execution_count": 8,
     "metadata": {},
     "output_type": "execute_result"
    }
   ],
   "source": [
    "lemmatizer.lemmatize(\"going\")"
   ]
  },
  {
   "cell_type": "code",
   "execution_count": 9,
   "metadata": {},
   "outputs": [
    {
     "data": {
      "text/plain": [
       "'go'"
      ]
     },
     "execution_count": 9,
     "metadata": {},
     "output_type": "execute_result"
    }
   ],
   "source": [
    "lemmatizer.lemmatize(\"going\", pos='v')"
   ]
  },
  {
   "cell_type": "code",
   "execution_count": 11,
   "metadata": {},
   "outputs": [],
   "source": [
    "words = [\"Running\", \"Jumps\", \"Happily\", \"Studies\", \"Studying\", \"Played\", \"Strongest\", \"Eating\", \"Cleaner\", \n",
    "    \"Organization\", \"Universal\", \"Activating\", \"Brightness\", \"Agreement\", \"National\", \"Quickly\", \"Connection\", \n",
    "    \"Discovering\", \"Beautifully\", \"Simplified\"]"
   ]
  },
  {
   "cell_type": "code",
   "execution_count": null,
   "metadata": {},
   "outputs": [
    {
     "name": "stdout",
     "output_type": "stream",
     "text": [
      "Running ------> Running\n",
      "Jumps ------> Jumps\n",
      "Happily ------> Happily\n",
      "Studies ------> Studies\n",
      "Studying ------> Studying\n",
      "Played ------> Played\n",
      "Strongest ------> Strongest\n",
      "Eating ------> Eating\n",
      "Cleaner ------> Cleaner\n",
      "Organization ------> Organization\n",
      "Universal ------> Universal\n",
      "Activating ------> Activating\n",
      "Brightness ------> Brightness\n",
      "Agreement ------> Agreement\n",
      "National ------> National\n",
      "Quickly ------> Quickly\n",
      "Connection ------> Connection\n",
      "Discovering ------> Discovering\n",
      "Beautifully ------> Beautifully\n",
      "Simplified ------> Simplified\n"
     ]
    }
   ],
   "source": [
    "for word in words:\n",
    "    print(word+\" ------> \"+lemmatizer.lemmatize(word).capitalize())"
   ]
  },
  {
   "cell_type": "code",
   "execution_count": 13,
   "metadata": {},
   "outputs": [
    {
     "name": "stdout",
     "output_type": "stream",
     "text": [
      "Running ------> Running\n",
      "Jumps ------> Jumps\n",
      "Happily ------> Happily\n",
      "Studies ------> Studies\n",
      "Studying ------> Studying\n",
      "Played ------> Played\n",
      "Strongest ------> Strongest\n",
      "Eating ------> Eating\n",
      "Cleaner ------> Cleaner\n",
      "Organization ------> Organization\n",
      "Universal ------> Universal\n",
      "Activating ------> Activating\n",
      "Brightness ------> Brightness\n",
      "Agreement ------> Agreement\n",
      "National ------> National\n",
      "Quickly ------> Quickly\n",
      "Connection ------> Connection\n",
      "Discovering ------> Discovering\n",
      "Beautifully ------> Beautifully\n",
      "Simplified ------> Simplified\n"
     ]
    }
   ],
   "source": [
    "for word in words:\n",
    "    print(word+\" ------> \"+lemmatizer.lemmatize(word,pos='n').capitalize())"
   ]
  },
  {
   "cell_type": "code",
   "execution_count": 14,
   "metadata": {},
   "outputs": [
    {
     "name": "stdout",
     "output_type": "stream",
     "text": [
      "Running ------> Running\n",
      "Jumps ------> Jumps\n",
      "Happily ------> Happily\n",
      "Studies ------> Studies\n",
      "Studying ------> Studying\n",
      "Played ------> Played\n",
      "Strongest ------> Strongest\n",
      "Eating ------> Eating\n",
      "Cleaner ------> Cleaner\n",
      "Organization ------> Organization\n",
      "Universal ------> Universal\n",
      "Activating ------> Activating\n",
      "Brightness ------> Brightness\n",
      "Agreement ------> Agreement\n",
      "National ------> National\n",
      "Quickly ------> Quickly\n",
      "Connection ------> Connection\n",
      "Discovering ------> Discovering\n",
      "Beautifully ------> Beautifully\n",
      "Simplified ------> Simplified\n"
     ]
    }
   ],
   "source": [
    "for word in words:\n",
    "    print(word+\" ------> \"+lemmatizer.lemmatize(word,pos='v').capitalize())"
   ]
  },
  {
   "cell_type": "code",
   "execution_count": 15,
   "metadata": {},
   "outputs": [
    {
     "data": {
      "text/plain": [
       "'go'"
      ]
     },
     "execution_count": 15,
     "metadata": {},
     "output_type": "execute_result"
    }
   ],
   "source": [
    "lemmatizer.lemmatize('goes',pos='v')"
   ]
  },
  {
   "cell_type": "code",
   "execution_count": 16,
   "metadata": {},
   "outputs": [
    {
     "data": {
      "text/plain": [
       "'go'"
      ]
     },
     "execution_count": 16,
     "metadata": {},
     "output_type": "execute_result"
    }
   ],
   "source": [
    "lemmatizer.lemmatize('goes',pos='n')"
   ]
  },
  {
   "cell_type": "code",
   "execution_count": null,
   "metadata": {},
   "outputs": [],
   "source": []
  }
 ],
 "metadata": {
  "kernelspec": {
   "display_name": "base",
   "language": "python",
   "name": "python3"
  },
  "language_info": {
   "codemirror_mode": {
    "name": "ipython",
    "version": 3
   },
   "file_extension": ".py",
   "mimetype": "text/x-python",
   "name": "python",
   "nbconvert_exporter": "python",
   "pygments_lexer": "ipython3",
   "version": "3.12.7"
  }
 },
 "nbformat": 4,
 "nbformat_minor": 2
}
