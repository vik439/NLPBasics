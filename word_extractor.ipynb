{
 "cells": [
  {
   "cell_type": "code",
   "execution_count": 2,
   "metadata": {},
   "outputs": [
    {
     "name": "stdout",
     "output_type": "stream",
     "text": [
      "Requirement already satisfied: beautifulsoup4 in c:\\users\\vik43\\anaconda4\\lib\\site-packages (4.12.3)\n",
      "Requirement already satisfied: requests in c:\\users\\vik43\\anaconda4\\lib\\site-packages (2.32.3)\n",
      "Requirement already satisfied: soupsieve>1.2 in c:\\users\\vik43\\anaconda4\\lib\\site-packages (from beautifulsoup4) (2.5)\n",
      "Requirement already satisfied: charset-normalizer<4,>=2 in c:\\users\\vik43\\anaconda4\\lib\\site-packages (from requests) (3.3.2)\n",
      "Requirement already satisfied: idna<4,>=2.5 in c:\\users\\vik43\\anaconda4\\lib\\site-packages (from requests) (3.7)\n",
      "Requirement already satisfied: urllib3<3,>=1.21.1 in c:\\users\\vik43\\anaconda4\\lib\\site-packages (from requests) (2.2.3)\n",
      "Requirement already satisfied: certifi>=2017.4.17 in c:\\users\\vik43\\anaconda4\\lib\\site-packages (from requests) (2024.8.30)\n",
      "Note: you may need to restart the kernel to use updated packages.\n"
     ]
    }
   ],
   "source": [
    "pip install beautifulsoup4 requests"
   ]
  },
  {
   "cell_type": "code",
   "execution_count": 3,
   "metadata": {},
   "outputs": [],
   "source": [
    "import requests"
   ]
  },
  {
   "cell_type": "code",
   "execution_count": 4,
   "metadata": {},
   "outputs": [],
   "source": [
    "url = \"https://www.bbc.com/news\""
   ]
  },
  {
   "cell_type": "code",
   "execution_count": 5,
   "metadata": {},
   "outputs": [],
   "source": [
    "response = requests.get(url)"
   ]
  },
  {
   "cell_type": "code",
   "execution_count": 6,
   "metadata": {},
   "outputs": [
    {
     "name": "stdout",
     "output_type": "stream",
     "text": [
      "<!DOCTYPE html><html lang=\"en-GB\"><head><meta charSet=\"utf-8\"/><meta name=\"viewport\" content=\"width=device-width\"/><title>Home - BBC News</title><meta property=\"og:title\" content=\"Home - BBC News\"/><meta name=\"twitter:title\" content=\"Home - BBC News\"/><meta name=\"description\" content=\"Visit BBC News for up-to-the-minute news, breaking news, video, audio and feature stories. BBC News provides trusted World and UK news as well as local and regional perspectives. Also entertainment, business, scien\n"
     ]
    }
   ],
   "source": [
    "print(response.text[:500])"
   ]
  },
  {
   "cell_type": "code",
   "execution_count": 7,
   "metadata": {},
   "outputs": [],
   "source": [
    "from bs4 import BeautifulSoup"
   ]
  },
  {
   "cell_type": "code",
   "execution_count": 8,
   "metadata": {},
   "outputs": [],
   "source": [
    "soup = BeautifulSoup(response.text, 'html.parser')"
   ]
  },
  {
   "cell_type": "code",
   "execution_count": 9,
   "metadata": {},
   "outputs": [
    {
     "name": "stdout",
     "output_type": "stream",
     "text": [
      "<!DOCTYPE html>\n",
      "<html lang=\"en-GB\">\n",
      " <head>\n",
      "  <meta charset=\"utf-8\"/>\n",
      "  <meta content=\"width=device-width\" name=\"viewport\"/>\n",
      "  <title>\n",
      "   Home - BBC News\n",
      "  </title>\n",
      "  <meta content=\"Home - BBC News\" property=\"og:title\"/>\n",
      "  <meta content=\"Home - BBC News\" name=\"twitter:title\"/>\n",
      "  <meta content=\"Visit BBC News for up-to-the-minute news, breaking news, video, audio and feature stories. BBC News provides trusted World and UK news as well as local and regional perspectives. Also entertainment, busine\n"
     ]
    }
   ],
   "source": [
    "print(soup.prettify()[:500])"
   ]
  },
  {
   "cell_type": "code",
   "execution_count": 10,
   "metadata": {},
   "outputs": [],
   "source": [
    "page_title = soup.title.text"
   ]
  },
  {
   "cell_type": "code",
   "execution_count": 12,
   "metadata": {},
   "outputs": [
    {
     "name": "stdout",
     "output_type": "stream",
     "text": [
      "Page Title:  Home - BBC News\n"
     ]
    }
   ],
   "source": [
    "print(\"Page Title: \", page_title)"
   ]
  },
  {
   "cell_type": "code",
   "execution_count": 13,
   "metadata": {},
   "outputs": [
    {
     "name": "stdout",
     "output_type": "stream",
     "text": [
      "NewsNews\n",
      "Russia 'easier to deal with' on Ukraine peace deal, Trump says\n",
      "Syrian security forces accused of executing dozens of Alawites\n",
      "Lady Gaga: My biggest fear? Being alone\n",
      "Fears of destruction as 'erratic' cyclone nears Australia\n",
      "Students now free to choose their hairstyles, Thai court rules\n",
      "Syrian security forces accused of executing dozens of Alawites\n",
      "Poland announces military training plan for all men\n",
      "The 'traitor' at the heart of South Korea's impeachment drama\n",
      "In their own words: Spend a day with Afghan women living under Taliban rule\n",
      "Lady Gaga: My biggest fear? Being alone\n",
      "Bulgarians guilty of spying for Russia in the UK\n",
      "Toppled private spacecraft can't complete Moon mission\n",
      "Second person dies in US measles outbreak\n",
      "US man will be first to be executed by firing squad in 15 years\n",
      "Watch: Trudeau gets emotional at one of his final press conferences\n",
      "More to explore\n",
      "Lady Gaga: My biggest fear? Being alone\n",
      "The Indian film showing the bride's 'humiliation' in arranged marriage\n",
      "The 'traitor' at the heart of South Korea's impeachment drama\n",
      "Can Trump's tariffs break China's grip on manufacturing?\n",
      "Boom to gloom: India middle-class jitters amid trillion-dollar market rout\n",
      "The Indian film showing the bride's 'humiliation' in arranged marriage\n",
      "King Charles reveals his playlist, from Marley to Kylie\n",
      "Weekly quiz: Anora cleaned up but who left the Oscars empty-handed?\n",
      "The 'traitor' at the heart of South Korea's impeachment drama\n",
      "Most watched\n",
      "Watch: Trudeau gets emotional at one of his final press conferences\n",
      "'You literally cannot see' - blizzard causes chaos in Iowa\n",
      "Ros Atkins on... the week after the Oval Office row\n",
      "Creator of viral AI Trump Gaza video warns of possible dangers\n",
      "Watch: SpaceX rocket spins out of control in test flight failure\n",
      "Also in news\n",
      "Convicted murderer in Serial podcast will not serve more jail time\n",
      "US job growth stable as government cuts start\n",
      "Indian killed while entering Israel was victim of job scam, family say\n",
      "Three wanted over murder of Scottish man in Kenya\n",
      "Watch: SpaceX rocket spins out of control in test flight failure\n",
      "US job growth stable as government cuts start\n",
      "South Africa rejects 'megaphone diplomacy' with US\n",
      "In their own words: Spend a day with Afghan women living under Taliban rule\n",
      "Indian killed while entering Israel was victim of job scam, family say\n",
      "Most read\n",
      "Bulgarians guilty of spying for Russia in the UK\n",
      "South Carolina man to be executed in US by firing squad\n",
      "Poland announces military training plan for all men\n",
      "Syrian security forces accused of executing dozens of Alawites\n",
      "Fears of destruction as 'erratic' cyclone nears Australia\n",
      "Toppled private spacecraft can't complete Moon mission\n",
      "Second person dies in US measles outbreak\n",
      "Lady Gaga: My biggest fear? Being alone\n",
      "'A pig in lipstick': Trump's strategic Bitcoin reserve criticised\n",
      "Day centre a refuge for the homeless  during Cyclone Alfred\n",
      "Sport\n",
      "I won't get time Arteta had at Arsenal - Amorim\n",
      "Not luck if you work as hard as we do - Slot\n",
      "Dupont v Gibson-Park - the intriguing game within a game\n",
      "'Not too stressed' - Russell ignores miss critics\n",
      "Which Premier League boss makes most substitutions - and who does it best?\n",
      "Not luck if you work as hard as we do - Slot\n",
      "Cadillac wins formal approval for F1 entry in 2026\n",
      "Prodigy who roomed with Bellingham eyes revival under Maradona's son\n",
      "Dupont v Gibson-Park - the intriguing game within a game\n",
      "Follow BBC on:\n"
     ]
    }
   ],
   "source": [
    "headings = soup.find_all(['h1','h2','h3'])\n",
    "for heading in headings:\n",
    "    print(heading.text.strip())"
   ]
  },
  {
   "cell_type": "code",
   "execution_count": 15,
   "metadata": {},
   "outputs": [
    {
     "name": "stdout",
     "output_type": "stream",
     "text": [
      "Speaking in the Oval Office, the US president says he's finding it \"more difficult\" to deal with Ukraine.\n",
      "The British-based Syrian Observatory for Human Rights says 52 people belonging to the Alawite minority were executed in the coastal province of Latakia.\n",
      "As she returns to pop with her seventh album, Mayhem, Lady Gaga reflects on the loneliness of fame.\n",
      "Four million people across Queensland and northern New South Wales are in the firing line.\n",
      "A 50-year-old directive that policed students' hairstyles was found to be unconstitutional.\n",
      "The British-based Syrian Observatory for Human Rights says 52 people belonging to the Alawite minority were executed in the coastal province of Latakia.\n",
      "Poland's prime minister said his government plans to have a model ready by the end of the year.\n",
      "Once a close ally of President Yoon Suk-Yeol, Han tells the BBC how and why he turned against him.\n",
      "The BBC spends the day with women across Afghanistan to understand what their lives look like under the Taliban government.\n",
      "As she returns to pop with her seventh album, Mayhem, Lady Gaga reflects on the loneliness of fame.\n",
      "As she returns to pop with her seventh album, Mayhem, Lady Gaga reflects on the loneliness of fame.\n",
      "Sthal is notable for the unflinching way it portrays a bride's experience in arranged marriage.\n",
      "Once a close ally of President Yoon Suk-Yeol, Han tells the BBC how and why he turned against him.\n",
      "The \"Made in China\" juggernaut was built over decades. Can Trump's moves set it back?\n",
      "One in five Indian households invest in the stock market, but the recent crash has left investors anxious.\n",
      "Sthal is notable for the unflinching way it portrays a bride's experience in arranged marriage.\n",
      "King Charles III is launching a personal playlist of music from the Commonwealth that lifts his sprits.\n",
      "How much attention did you pay to what has been going on in the world over the past seven days?\n",
      "Once a close ally of President Yoon Suk-Yeol, Han tells the BBC how and why he turned against him.\n",
      "Syed spent 20 years in prison for the murder of his ex-girlfriend, but the podcast helped free him.\n"
     ]
    }
   ],
   "source": [
    "paragraphs = soup.find_all('p')\n",
    "for para in paragraphs[:20]:\n",
    "    print(para.text.strip())"
   ]
  },
  {
   "cell_type": "code",
   "execution_count": 16,
   "metadata": {},
   "outputs": [
    {
     "name": "stdout",
     "output_type": "stream",
     "text": [
      "Text: Skip to content, URL: #main-content\n",
      "Text: British Broadcasting Corporation, URL: /\n",
      "Text: Home, URL: /\n",
      "Text: News, URL: /news\n",
      "Text: Sport, URL: /sport\n"
     ]
    }
   ],
   "source": [
    "links = soup.find_all('a')\n",
    "for link in links[:5]:\n",
    "    href = link.get('href')\n",
    "    text = link.text.strip()\n",
    "    print(f\"Text: {text}, URL: {href}\")"
   ]
  },
  {
   "cell_type": "code",
   "execution_count": 17,
   "metadata": {},
   "outputs": [
    {
     "name": "stdout",
     "output_type": "stream",
     "text": [
      "Image Source: /bbcx/grey-placeholder.png\n",
      "Image Source: https://ichef.bbci.co.uk/ace/standard/480/cpsprodpb/ffa7/live/4f106810-fb77-11ef-9e61-71ee71f26eb1.jpg.webp\n",
      "Image Source: /bbcx/grey-placeholder.png\n",
      "Image Source: https://ichef.bbci.co.uk/news/480/cpsprodpb/1d4b/live/6fc55210-fb76-11ef-a729-0d4be0abe7e6.jpg.webp\n",
      "Image Source: /bbcx/grey-placeholder.png\n"
     ]
    }
   ],
   "source": [
    "images = soup.find_all('img')\n",
    "for img in images[:5]:\n",
    "    print(\"Image Source:\", img.get('src'))"
   ]
  },
  {
   "cell_type": "code",
   "execution_count": null,
   "metadata": {},
   "outputs": [],
   "source": []
  }
 ],
 "metadata": {
  "kernelspec": {
   "display_name": "base",
   "language": "python",
   "name": "python3"
  },
  "language_info": {
   "codemirror_mode": {
    "name": "ipython",
    "version": 3
   },
   "file_extension": ".py",
   "mimetype": "text/x-python",
   "name": "python",
   "nbconvert_exporter": "python",
   "pygments_lexer": "ipython3",
   "version": "3.12.7"
  }
 },
 "nbformat": 4,
 "nbformat_minor": 2
}
